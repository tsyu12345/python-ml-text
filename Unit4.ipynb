{
 "cells": [
  {
   "cell_type": "code",
   "execution_count": 1,
   "metadata": {},
   "outputs": [],
   "source": [
    "import numpy as np\n",
    "from matplotlib import pyplot as plt\n"
   ]
  },
  {
   "cell_type": "code",
   "execution_count": null,
   "metadata": {},
   "outputs": [],
   "source": []
  },
  {
   "cell_type": "code",
   "execution_count": 3,
   "metadata": {},
   "outputs": [
    {
     "name": "stdout",
     "output_type": "stream",
     "text": [
      "[ 1  2  3  4  5  6  7  8  9 10]\n"
     ]
    }
   ],
   "source": [
    "#L4.2\n",
    "vector = np.array([1,2,3,4,5,6,7,8,9,10])\n",
    "print(vector)\n",
    "    "
   ]
  },
  {
   "cell_type": "code",
   "execution_count": 5,
   "metadata": {},
   "outputs": [
    {
     "name": "stdout",
     "output_type": "stream",
     "text": [
      "[[ 1  2  3  4  5  6  7  8  9 10]\n",
      " [11 12 13 14 15 16 17 18 19 20]]\n"
     ]
    }
   ],
   "source": [
    "matrix = np.array(\n",
    "    [\n",
    "        [1,2,3,4,5,6,7,8,9,10],\n",
    "        [11,12,13,14,15,16,17,18,19,20],\n",
    "    ])\n",
    "\n",
    "print(matrix)\n"
   ]
  },
  {
   "cell_type": "code",
   "execution_count": 7,
   "metadata": {},
   "outputs": [
    {
     "name": "stdout",
     "output_type": "stream",
     "text": [
      "[[[ 1  2  3  4  5  6  7  8  9 10]\n",
      "  [ 3  4  5  6  7  8  9 10 11 12]]\n",
      "\n",
      " [[ 2  3  4  5  6  7  8  9 10 11]\n",
      "  [ 5  6  7  8  9 10 11 12 13 14]]]\n"
     ]
    }
   ],
   "source": [
    "#L4.4\n",
    "threeDim_vector = [\n",
    "    [\n",
    "        [1,2,3,4,5,6,7,8,9,10],\n",
    "        [3,4,5,6,7,8,9,10,11,12],\n",
    "    ],\n",
    "    [\n",
    "        [2,3,4,5,6,7,8,9,10,11],\n",
    "        [5,6,7,8,9,10,11,12,13,14],\n",
    "    ]\n",
    "]\n",
    "\n",
    "ex_tensor = np.array(threeDim_vector)\n",
    "print(ex_tensor)"
   ]
  },
  {
   "cell_type": "code",
   "execution_count": 9,
   "metadata": {},
   "outputs": [
    {
     "name": "stdout",
     "output_type": "stream",
     "text": [
      "935\n"
     ]
    }
   ],
   "source": [
    "a = np.array([1,2,3,4,5,6,7,8,9,10])\n",
    "b = np.array([11,12,13,14,15,16,17,18,19,20])\n",
    "\n",
    "dot = np.dot(a,b)\n",
    "print(dot)"
   ]
  },
  {
   "cell_type": "code",
   "execution_count": 11,
   "metadata": {},
   "outputs": [
    {
     "name": "stdout",
     "output_type": "stream",
     "text": [
      "19.621416870348583\n",
      "55.0\n",
      "10.000002656125337\n"
     ]
    }
   ],
   "source": [
    "L2_norm = np.linalg.norm(a, 2)\n",
    "L1_norm = np.linalg.norm(a, 1)\n",
    "L100_norm = np.linalg.norm(a, 100)\n",
    "\n",
    "print(L2_norm)\n",
    "print(L1_norm)\n",
    "print(L100_norm)\n"
   ]
  },
  {
   "cell_type": "code",
   "execution_count": 13,
   "metadata": {},
   "outputs": [
    {
     "name": "stdout",
     "output_type": "stream",
     "text": [
      "8\n",
      "3.0\n",
      "3.0\n",
      "5.0\n",
      "5.0\n"
     ]
    }
   ],
   "source": [
    "#L4.8\n",
    "\n",
    "a = np.array([1, -2, 2])\n",
    "b = np.array([2, -2, 1])\n",
    "\n",
    "dot = np.dot(a,b)\n",
    "L2_norm_a = np.linalg.norm(a, 2)\n",
    "L2_norm_b = np.linalg.norm(b, 2)\n",
    "L1_norm_a = np.linalg.norm(a, 1)\n",
    "L1_norm_b = np.linalg.norm(b, 1)\n",
    "\n",
    "print(dot)\n",
    "print(L2_norm_a)\n",
    "print(L2_norm_b)\n",
    "print(L1_norm_a)\n",
    "print(L1_norm_b) \n"
   ]
  },
  {
   "cell_type": "code",
   "execution_count": 16,
   "metadata": {},
   "outputs": [
    {
     "name": "stdout",
     "output_type": "stream",
     "text": [
      "[[50 60]\n",
      " [66 80]]\n"
     ]
    }
   ],
   "source": [
    "a = np.array(\n",
    "    [\n",
    "        [1,2,3,4,],\n",
    "        [2,3,4,5,],\n",
    "    ])\n",
    "\n",
    "b = np.array([\n",
    "    [1,2],\n",
    "    [3,4],\n",
    "    [5,6],\n",
    "    [7,8]\n",
    "])\n",
    "\n",
    "print(np.dot(a,b))\n"
   ]
  },
  {
   "cell_type": "code",
   "execution_count": 18,
   "metadata": {},
   "outputs": [
    {
     "name": "stdout",
     "output_type": "stream",
     "text": [
      "[[ 1  4]\n",
      " [ 9 16]\n",
      " [25 36]\n",
      " [49 64]]\n"
     ]
    }
   ],
   "source": [
    "a = b\n",
    "\n",
    "print(a * b)"
   ]
  },
  {
   "cell_type": "code",
   "execution_count": 20,
   "metadata": {},
   "outputs": [
    {
     "name": "stdout",
     "output_type": "stream",
     "text": [
      "[[1 3 5 7]\n",
      " [2 4 6 8]]\n"
     ]
    }
   ],
   "source": [
    "print(a.T)"
   ]
  },
  {
   "cell_type": "code",
   "execution_count": 22,
   "metadata": {},
   "outputs": [
    {
     "name": "stdout",
     "output_type": "stream",
     "text": [
      "[[1. 0. 0. ... 0. 0. 0.]\n",
      " [0. 1. 0. ... 0. 0. 0.]\n",
      " [0. 0. 1. ... 0. 0. 0.]\n",
      " ...\n",
      " [0. 0. 0. ... 1. 0. 0.]\n",
      " [0. 0. 0. ... 0. 1. 0.]\n",
      " [0. 0. 0. ... 0. 0. 1.]]\n"
     ]
    }
   ],
   "source": [
    "print(np.eye(100))"
   ]
  },
  {
   "cell_type": "code",
   "execution_count": 23,
   "metadata": {},
   "outputs": [
    {
     "name": "stdout",
     "output_type": "stream",
     "text": [
      "[[1. 0.]\n",
      " [0. 1.]]\n"
     ]
    }
   ],
   "source": [
    "print(np.eye(2))"
   ]
  },
  {
   "cell_type": "code",
   "execution_count": 25,
   "metadata": {},
   "outputs": [
    {
     "name": "stdout",
     "output_type": "stream",
     "text": [
      "[[1 0]\n",
      " [0 1]]\n"
     ]
    }
   ],
   "source": [
    "c = np.array([\n",
    "    [1,1],\n",
    "    [1,2]\n",
    "])\n",
    "\n",
    "d = np.array([\n",
    "    [2, -1],\n",
    "    [-1, 1],\n",
    "])\n",
    "\n",
    "print(np.dot(c,d))"
   ]
  },
  {
   "cell_type": "code",
   "execution_count": 27,
   "metadata": {},
   "outputs": [
    {
     "name": "stdout",
     "output_type": "stream",
     "text": [
      "行列式\n",
      "1.0\n",
      "逆行列\n",
      "[[ 2. -1.]\n",
      " [-1.  1.]]\n"
     ]
    }
   ],
   "source": [
    "#L4.21\n",
    "\n",
    "a = np.array([\n",
    "    [1,1],\n",
    "    [1,2]\n",
    "])\n",
    "\n",
    "print(\"行列式\")\n",
    "print(np.linalg.det(a))\n",
    "\n",
    "print(\"逆行列\")\n",
    "print(np.linalg.inv(a))"
   ]
  },
  {
   "cell_type": "code",
   "execution_count": 3,
   "metadata": {},
   "outputs": [
    {
     "data": {
      "image/png": "[encoded data removed]",
      "text/plain": [
       "<Figure size 432x288 with 2 Axes>"
      ]
     },
     "metadata": {
      "needs_background": "light"
     },
     "output_type": "display_data"
    }
   ],
   "source": [
    "start = np.array([0,0])\n",
    "\n",
    "goal = np.array([2,3])\n",
    "\n",
    "plt.xlabel(\"x\")\n",
    "plt.ylabel(\"y\")\n",
    "\n",
    "plt.xlim([-3, 3])\n",
    "plt.ylim([-3, 3])\n",
    "plt.grid()\n",
    "plt.axes().set_aspect('equal')\n",
    "\n",
    "plt.quiver(start[0], start[1], goal[0], goal[1], angles='xy', scale_units='xy', scale=1, color='black')\n",
    "\n",
    "plt.show()\n",
    "\n"
   ]
  },
  {
   "cell_type": "code",
   "execution_count": 27,
   "metadata": {},
   "outputs": [],
   "source": [
    "def plot_vector(start_np_array:np.ndarray, end_np_array:np.ndarray, color:str) -> None:\n",
    "    plt.quiver(\n",
    "        start_np_array[0], \n",
    "        start_np_array[1], \n",
    "        end_np_array[0], \n",
    "        end_np_array[1], \n",
    "        angles='xy', \n",
    "        scale_units='xy', \n",
    "        scale=1, \n",
    "        color=color\n",
    "    )\n",
    "    \n",
    "def show_vector() -> None:\n",
    "    \n",
    "    plt.xlim([-3, 3])\n",
    "    plt.ylim([-3, 3])\n",
    "    \n",
    "    plt.xlabel(\"x\")\n",
    "    plt.ylabel(\"y\")\n",
    "    plt.grid()\n",
    "    plt.axes().set_aspect('equal')\n",
    "    \n",
    "    plt.show()"
   ]
  },
  {
   "cell_type": "code",
   "execution_count": 14,
   "metadata": {},
   "outputs": [
    {
     "name": "stdout",
     "output_type": "stream",
     "text": [
      "[ 1 -2]\n",
      "[10 -8]\n"
     ]
    },
    {
     "data": {
      "image/png": "[encoded data removed]",
      "text/plain": [
       "<Figure size 432x288 with 2 Axes>"
      ]
     },
     "metadata": {
      "needs_background": "light"
     },
     "output_type": "display_data"
    },
    {
     "data": {
      "image/png": "[encoded data removed]",
      "text/plain": [
       "<Figure size 432x288 with 2 Axes>"
      ]
     },
     "metadata": {
      "needs_background": "light"
     },
     "output_type": "display_data"
    }
   ],
   "source": [
    "a = np.array([2,3])\n",
    "A = np.array([\n",
    "    [2, -1],\n",
    "    [2, -2]\n",
    "])\n",
    "\n",
    "b = np.dot(A, a)\n",
    "b_s = np.dot(a, A)\n",
    "\n",
    "print(b)\n",
    "print(b_s)\n",
    "\n",
    "start = np.array([0,0])\n",
    "\n",
    "plot_vector(start, b, 'black')\n",
    "plot_vector(start, a, 'red')\n"
   ]
  },
  {
   "cell_type": "code",
   "execution_count": 15,
   "metadata": {},
   "outputs": [
    {
     "name": "stdout",
     "output_type": "stream",
     "text": [
      "a: [1 3]\n",
      "b: [-2 -1]\n"
     ]
    },
    {
     "data": {
      "image/png": "[encoded data removed]",
      "text/plain": [
       "<Figure size 432x288 with 2 Axes>"
      ]
     },
     "metadata": {
      "needs_background": "light"
     },
     "output_type": "display_data"
    },
    {
     "data": {
      "image/png": "[encoded data removed]",
      "text/plain": [
       "<Figure size 432x288 with 2 Axes>"
      ]
     },
     "metadata": {
      "needs_background": "light"
     },
     "output_type": "display_data"
    }
   ],
   "source": [
    "#L4.26\n",
    "\n",
    "a = np.array([1,3])\n",
    "A = np.array([\n",
    "    [1, -1],\n",
    "    [2, -1]\n",
    "])\n",
    "\n",
    "b = np.dot(A, a)\n",
    "\n",
    "print(\"a:\", a)\n",
    "print(\"b:\", b)\n",
    "\n",
    "start = np.array([0,0])\n",
    "\n",
    "plot_vector(start, a, \"red\")\n",
    "plot_vector(start, b, \"black\")"
   ]
  },
  {
   "cell_type": "code",
   "execution_count": 18,
   "metadata": {},
   "outputs": [
    {
     "name": "stdout",
     "output_type": "stream",
     "text": [
      "[2. 5.]\n",
      "[[-0.70710678 -0.4472136 ]\n",
      " [ 0.70710678 -0.89442719]]\n"
     ]
    }
   ],
   "source": [
    "a = np.array([\n",
    "    [3, 1],\n",
    "    [2, 4]\n",
    "])\n",
    "\n",
    "unique_vectors = np.linalg.eig(a)\n",
    "print(unique_vectors[0]) #固有値\n",
    "print(unique_vectors[1]) #固有ベクトル"
   ]
  },
  {
   "cell_type": "code",
   "execution_count": 20,
   "metadata": {},
   "outputs": [
    {
     "name": "stdout",
     "output_type": "stream",
     "text": [
      "[-1.  2.]\n",
      "[[-0.9701425  -0.70710678]\n",
      " [-0.24253563 -0.70710678]]\n"
     ]
    }
   ],
   "source": [
    "#L4.29\n",
    "\n",
    "a:np.ndarray = np.array([\n",
    "    [-2, 4],\n",
    "    [-1, 3]\n",
    "])\n",
    "\n",
    "e_v = np.linalg.eig(a)\n",
    "\n",
    "print(e_v[0])\n",
    "print(e_v[1])"
   ]
  },
  {
   "cell_type": "code",
   "execution_count": 22,
   "metadata": {},
   "outputs": [],
   "source": [
    "def cos_simillery(vector1:np.ndarray, vector2:np.ndarray) -> float:\n",
    "    \"\"\"_summary_\\n\n",
    "    コサイン類似度を計算する関数\n",
    "    Args:\n",
    "        vector1 (np.ndarray): 入力ベクトル1\n",
    "        vector2 (np.ndarray): 入力ベクトル2\n",
    "\n",
    "    Returns:\n",
    "        float: コサイン類似度\n",
    "    \"\"\"\n",
    "    return np.dot(vector1, vector2) / (np.linalg.norm(vector1) * np.linalg.norm(vector2))"
   ]
  },
  {
   "cell_type": "code",
   "execution_count": 23,
   "metadata": {},
   "outputs": [
    {
     "name": "stdout",
     "output_type": "stream",
     "text": [
      "1.0\n",
      "-1.0\n"
     ]
    }
   ],
   "source": [
    "a:np.ndarray = np.array([2,2,2,2])\n",
    "b:np.ndarray = np.array([1,1,1,1])\n",
    "c:np.ndarray = np.array([-1,-1,-1,-1])\n",
    "\n",
    "print(cos_simillery(a, b)) #aとbのコサイン類似度\n",
    "print(cos_simillery(a, c)) #aとcのコサイン類似度\n",
    "\n"
   ]
  },
  {
   "cell_type": "code",
   "execution_count": 29,
   "metadata": {},
   "outputs": [
    {
     "name": "stdout",
     "output_type": "stream",
     "text": [
      "0.0\n"
     ]
    },
    {
     "data": {
      "image/png": "[encoded data removed]",
      "text/plain": [
       "<Figure size 432x288 with 2 Axes>"
      ]
     },
     "metadata": {
      "needs_background": "light"
     },
     "output_type": "display_data"
    }
   ],
   "source": [
    "a: np.ndarray = np.array([2,0,1,0])\n",
    "b: np.ndarray = np.array([0,1,0,2])\n",
    "\n",
    "print(cos_simillery(a, b)) #aとbのコサイン類似度\n",
    "\n",
    "plot_vector(np.array([0,0]), a, \"red\")\n",
    "plot_vector(np.array([0,0]), b, \"black\")\n",
    "\n",
    "show_vector()"
   ]
  },
  {
   "cell_type": "markdown",
   "metadata": {},
   "source": [
    "# 第４章線形代数まとめ\n",
    "\n",
    "### 1.テンソル（Tensor）\n",
    "* スカラー（普通の数）を多次元に拡張した概念\n",
    "* スカラー、ベクトル（１次元行列）、行列、多次元行列（多階数テンソル）\n",
    "\n",
    "\n",
    "### 3.ノルム\n",
    "* ベクトルの大きさを示す量\n",
    "* ノルムには、$L^1ノルム、L^2ノルム...$など複数の示し方があり、一般に$L^pノルム$と示され、$||\\vec{x}||_{p}$と記される。\n",
    "  * $L^2ノルム$：ベクトルの各要素を２乗総和平方根\n",
    "  $$||\\vec{x}||_{2} = \\sqrt{x_{1}^{2} + x_{2}^{2} + ... + x_{n}^{2}} = \\Sigma_{k=1}^{n} x_{k}^{2}$$\n",
    "  * $L^1ノルム$：各要素の絶対値の総和\n",
    "  $$||x||_{1} = |x_1| + |x_2| + .... + |x_n| = \\Sigma_{k=1}^{n}|x_k|$$\n",
    "\n",
    "### 3.内積（dot）\n",
    "* ベクトル（行列）の各要素同士の積の総和\n",
    "* 和 \n",
    "$$\\vec{a} \\cdot \\vec{b} = a_1b_1 +  ... + a_nb_n = \\Sigma_{k=1}^{n}a_kb_k$$\n",
    "* $\\cos{\\theta}$と$L^2ノルム$\n",
    "$$\\vec{a} \\cdot \\vec{b} = ||\\vec{a}||_2||\\vec{b}||_2\\cos{\\theta} = \\sqrt{a_{1}^2 + a_{2}^{2}}\\sqrt{b_{1}^2 + b_{2}^{2}}\\cos{\\theta}$$\n",
    "* ここから、$\\cos{\\theta}$は\n",
    "$$\\cos{\\theta} = \\frac{a_{1}b_{1} + a_{2}b_{2}}{\\sqrt{a_{1}^2 + a_{2}^{2}}\\sqrt{b_{1}^2 + b_{2}^{2}}}$$\n"
   ]
  }
 ],
 "metadata": {
  "interpreter": {
   "hash": "14c6c5ca0f9b539dd92773545166bfb871df97be8ac33429b76df736f0481242"
  },
  "kernelspec": {
   "display_name": "Python 3.9.6 ('.venv': venv)",
   "language": "python",
   "name": "python3"
  },
  "language_info": {
   "codemirror_mode": {
    "name": "ipython",
    "version": 3
   },
   "file_extension": ".py",
   "mimetype": "text/x-python",
   "name": "python",
   "nbconvert_exporter": "python",
   "pygments_lexer": "ipython3",
   "version": "3.9.6"
  },
  "orig_nbformat": 4
 },
 "nbformat": 4,
 "nbformat_minor": 2
}
