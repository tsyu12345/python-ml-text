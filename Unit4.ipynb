{
 "cells": [
  {
   "cell_type": "code",
   "execution_count": 2,
   "metadata": {},
   "outputs": [],
   "source": [
    "import numpy as np\n",
    "from matplotlib import pyplot as plt\n"
   ]
  },
  {
   "cell_type": "code",
   "execution_count": 3,
   "metadata": {},
   "outputs": [
    {
     "name": "stdout",
     "output_type": "stream",
     "text": [
      "[ 1  2  3  4  5  6  7  8  9 10]\n"
     ]
    }
   ],
   "source": [
    "#L4.2\n",
    "vector = np.array([1,2,3,4,5,6,7,8,9,10])\n",
    "print(vector)\n",
    "    "
   ]
  },
  {
   "cell_type": "code",
   "execution_count": 5,
   "metadata": {},
   "outputs": [
    {
     "name": "stdout",
     "output_type": "stream",
     "text": [
      "[[ 1  2  3  4  5  6  7  8  9 10]\n",
      " [11 12 13 14 15 16 17 18 19 20]]\n"
     ]
    }
   ],
   "source": [
    "matrix = np.array(\n",
    "    [\n",
    "        [1,2,3,4,5,6,7,8,9,10],\n",
    "        [11,12,13,14,15,16,17,18,19,20],\n",
    "    ])\n",
    "\n",
    "print(matrix)\n"
   ]
  },
  {
   "cell_type": "code",
   "execution_count": 7,
   "metadata": {},
   "outputs": [
    {
     "name": "stdout",
     "output_type": "stream",
     "text": [
      "[[[ 1  2  3  4  5  6  7  8  9 10]\n",
      "  [ 3  4  5  6  7  8  9 10 11 12]]\n",
      "\n",
      " [[ 2  3  4  5  6  7  8  9 10 11]\n",
      "  [ 5  6  7  8  9 10 11 12 13 14]]]\n"
     ]
    }
   ],
   "source": [
    "#L4.4\n",
    "threeDim_vector = [\n",
    "    [\n",
    "        [1,2,3,4,5,6,7,8,9,10],\n",
    "        [3,4,5,6,7,8,9,10,11,12],\n",
    "    ],\n",
    "    [\n",
    "        [2,3,4,5,6,7,8,9,10,11],\n",
    "        [5,6,7,8,9,10,11,12,13,14],\n",
    "    ]\n",
    "]\n",
    "\n",
    "ex_tensor = np.array(threeDim_vector)\n",
    "print(ex_tensor)"
   ]
  },
  {
   "cell_type": "code",
   "execution_count": 9,
   "metadata": {},
   "outputs": [
    {
     "name": "stdout",
     "output_type": "stream",
     "text": [
      "935\n"
     ]
    }
   ],
   "source": [
    "a = np.array([1,2,3,4,5,6,7,8,9,10])\n",
    "b = np.array([11,12,13,14,15,16,17,18,19,20])\n",
    "\n",
    "dot = np.dot(a,b)\n",
    "print(dot)"
   ]
  },
  {
   "cell_type": "code",
   "execution_count": 11,
   "metadata": {},
   "outputs": [
    {
     "name": "stdout",
     "output_type": "stream",
     "text": [
      "19.621416870348583\n",
      "55.0\n",
      "10.000002656125337\n"
     ]
    }
   ],
   "source": [
    "L2_norm = np.linalg.norm(a, 2)\n",
    "L1_norm = np.linalg.norm(a, 1)\n",
    "L100_norm = np.linalg.norm(a, 100)\n",
    "\n",
    "print(L2_norm)\n",
    "print(L1_norm)\n",
    "print(L100_norm)\n"
   ]
  },
  {
   "cell_type": "code",
   "execution_count": 13,
   "metadata": {},
   "outputs": [
    {
     "name": "stdout",
     "output_type": "stream",
     "text": [
      "8\n",
      "3.0\n",
      "3.0\n",
      "5.0\n",
      "5.0\n"
     ]
    }
   ],
   "source": [
    "#L4.8\n",
    "\n",
    "a = np.array([1, -2, 2])\n",
    "b = np.array([2, -2, 1])\n",
    "\n",
    "dot = np.dot(a,b)\n",
    "L2_norm_a = np.linalg.norm(a, 2)\n",
    "L2_norm_b = np.linalg.norm(b, 2)\n",
    "L1_norm_a = np.linalg.norm(a, 1)\n",
    "L1_norm_b = np.linalg.norm(b, 1)\n",
    "\n",
    "print(dot)\n",
    "print(L2_norm_a)\n",
    "print(L2_norm_b)\n",
    "print(L1_norm_a)\n",
    "print(L1_norm_b) \n"
   ]
  },
  {
   "cell_type": "code",
   "execution_count": 16,
   "metadata": {},
   "outputs": [
    {
     "name": "stdout",
     "output_type": "stream",
     "text": [
      "[[50 60]\n",
      " [66 80]]\n"
     ]
    }
   ],
   "source": [
    "a = np.array(\n",
    "    [\n",
    "        [1,2,3,4,],\n",
    "        [2,3,4,5,],\n",
    "    ])\n",
    "\n",
    "b = np.array([\n",
    "    [1,2],\n",
    "    [3,4],\n",
    "    [5,6],\n",
    "    [7,8]\n",
    "])\n",
    "\n",
    "print(np.dot(a,b))\n"
   ]
  },
  {
   "cell_type": "code",
   "execution_count": 18,
   "metadata": {},
   "outputs": [
    {
     "name": "stdout",
     "output_type": "stream",
     "text": [
      "[[ 1  4]\n",
      " [ 9 16]\n",
      " [25 36]\n",
      " [49 64]]\n"
     ]
    }
   ],
   "source": [
    "a = b\n",
    "\n",
    "print(a * b)"
   ]
  },
  {
   "cell_type": "code",
   "execution_count": 20,
   "metadata": {},
   "outputs": [
    {
     "name": "stdout",
     "output_type": "stream",
     "text": [
      "[[1 3 5 7]\n",
      " [2 4 6 8]]\n"
     ]
    }
   ],
   "source": [
    "print(a.T)"
   ]
  },
  {
   "cell_type": "code",
   "execution_count": 22,
   "metadata": {},
   "outputs": [
    {
     "name": "stdout",
     "output_type": "stream",
     "text": [
      "[[1. 0. 0. ... 0. 0. 0.]\n",
      " [0. 1. 0. ... 0. 0. 0.]\n",
      " [0. 0. 1. ... 0. 0. 0.]\n",
      " ...\n",
      " [0. 0. 0. ... 1. 0. 0.]\n",
      " [0. 0. 0. ... 0. 1. 0.]\n",
      " [0. 0. 0. ... 0. 0. 1.]]\n"
     ]
    }
   ],
   "source": [
    "print(np.eye(100))"
   ]
  },
  {
   "cell_type": "code",
   "execution_count": 23,
   "metadata": {},
   "outputs": [
    {
     "name": "stdout",
     "output_type": "stream",
     "text": [
      "[[1. 0.]\n",
      " [0. 1.]]\n"
     ]
    }
   ],
   "source": [
    "print(np.eye(2))"
   ]
  },
  {
   "cell_type": "code",
   "execution_count": 25,
   "metadata": {},
   "outputs": [
    {
     "name": "stdout",
     "output_type": "stream",
     "text": [
      "[[1 0]\n",
      " [0 1]]\n"
     ]
    }
   ],
   "source": [
    "c = np.array([\n",
    "    [1,1],\n",
    "    [1,2]\n",
    "])\n",
    "\n",
    "d = np.array([\n",
    "    [2, -1],\n",
    "    [-1, 1],\n",
    "])\n",
    "\n",
    "print(np.dot(c,d))"
   ]
  },
  {
   "cell_type": "code",
   "execution_count": 27,
   "metadata": {},
   "outputs": [
    {
     "name": "stdout",
     "output_type": "stream",
     "text": [
      "行列式\n",
      "1.0\n",
      "逆行列\n",
      "[[ 2. -1.]\n",
      " [-1.  1.]]\n"
     ]
    }
   ],
   "source": [
    "#L4.21\n",
    "\n",
    "a = np.array([\n",
    "    [1,1],\n",
    "    [1,2]\n",
    "])\n",
    "\n",
    "print(\"行列式\")\n",
    "print(np.linalg.det(a))\n",
    "\n",
    "print(\"逆行列\")\n",
    "print(np.linalg.inv(a))"
   ]
  },
  {
   "cell_type": "code",
   "execution_count": 31,
   "metadata": {},
   "outputs": [
    {
     "data": {
      "image/png": "[encoded data removed]",
      "text/plain": [
       "<Figure size 432x288 with 2 Axes>"
      ]
     },
     "metadata": {
      "needs_background": "light"
     },
     "output_type": "display_data"
    }
   ],
   "source": [
    "start = np.array([0,0])\n",
    "\n",
    "goal = np.array([2,3])\n",
    "\n",
    "plt.xlabel(\"x\")\n",
    "plt.ylabel(\"y\")\n",
    "\n",
    "plt.quiver(start[0], start[1], goal[0], goal[1], angles='xy', scale_units='xy', scale=1, color='black')\n",
    "\n",
    "plt.xlim([-3, 3])\n",
    "plt.ylim([-3, 3])\n",
    "plt.grid()\n",
    "plt.axes().set_aspect('equal')\n",
    "\n",
    "plt.show()\n",
    "\n"
   ]
  }
 ],
 "metadata": {
  "interpreter": {
   "hash": "14c6c5ca0f9b539dd92773545166bfb871df97be8ac33429b76df736f0481242"
  },
  "kernelspec": {
   "display_name": "Python 3.9.6 ('.venv': venv)",
   "language": "python",
   "name": "python3"
  },
  "language_info": {
   "codemirror_mode": {
    "name": "ipython",
    "version": 3
   },
   "file_extension": ".py",
   "mimetype": "text/x-python",
   "name": "python",
   "nbconvert_exporter": "python",
   "pygments_lexer": "ipython3",
   "version": "3.9.6"
  },
  "orig_nbformat": 4
 },
 "nbformat": 4,
 "nbformat_minor": 2
}
