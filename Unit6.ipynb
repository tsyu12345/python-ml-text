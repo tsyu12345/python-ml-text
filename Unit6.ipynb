{
 "cells": [
  {
   "cell_type": "code",
   "execution_count": 6,
   "metadata": {},
   "outputs": [],
   "source": [
    "import numpy as np\n",
    "from numpy import ndarray\n",
    "from matplotlib import pyplot as plt"
   ]
  },
  {
   "cell_type": "markdown",
   "metadata": {},
   "source": [
    "# 第６章 確率・統計"
   ]
  },
  {
   "cell_type": "markdown",
   "metadata": {},
   "source": [
    "## 6.1 確率の概念\n",
    "### 6.1.1 確率とは\n",
    "* 確率（Probability）: ある事象が発生することの期待の度合。\n",
    "$$P(A) = \\frac{a}{n}$$\n"
   ]
  },
  {
   "cell_type": "markdown",
   "metadata": {},
   "source": [
    "### 6.1.2 余事象\n",
    "* 余事象（Remaining Events）: 事象Aが起こらない場合の事象のこと\n",
    "* $\\bar{A}$\n",
    "* $P(\\bar{A}) = 1-P(A)$"
   ]
  },
  {
   "cell_type": "markdown",
   "metadata": {},
   "source": [
    "### 6.1.3 確率への収束\n",
    "* 試行回数が大きくなると、確率が収束することがわかる。"
   ]
  },
  {
   "cell_type": "code",
   "execution_count": 2,
   "metadata": {},
   "outputs": [
    {
     "data": {
      "image/png": "[encoded data removed]",
      "text/plain": [
       "<Figure size 432x288 with 1 Axes>"
      ]
     },
     "metadata": {
      "needs_background": "light"
     },
     "output_type": "display_data"
    }
   ],
   "source": [
    "def L_6_1(TryCount:int):\n",
    "    x = []\n",
    "    y = []\n",
    "    count:int = 0\n",
    "    event_dispach_count:int = 0\n",
    "    for i in range(TryCount):\n",
    "        if np.random.randint(6+1) == 5:\n",
    "            event_dispach_count += 1\n",
    "        \n",
    "        count += 1\n",
    "        x.append(count)\n",
    "        y.append(event_dispach_count/count)\n",
    "    \n",
    "    plt.plot(x, y)\n",
    "    plt.xlabel('count')\n",
    "    plt.ylabel('event_dispach_count/count')\n",
    "    plt.grid()\n",
    "    \n",
    "    plt.show()\n",
    "\n",
    "L_6_1(100000)"
   ]
  },
  {
   "cell_type": "markdown",
   "metadata": {},
   "source": [
    "## 6.2 平均値と期待値\n",
    "### 6.2.1 平均値\n",
    "* $\\mu = \\frac{x_1 + ... + x_n}{n} = \\frac{1}{n}\\Sigma_{k=1}^{n}x_k$"
   ]
  },
  {
   "cell_type": "markdown",
   "metadata": {},
   "source": [
    "### 6.2.2 平均値の実装"
   ]
  },
  {
   "cell_type": "code",
   "execution_count": 3,
   "metadata": {},
   "outputs": [
    {
     "name": "stdout",
     "output_type": "stream",
     "text": [
      "25.333333333333332\n"
     ]
    }
   ],
   "source": [
    "x = np.array([50, 40, 30, 20, 10, 2])\n",
    "\n",
    "avg = np.average(x)\n",
    "print(avg)"
   ]
  },
  {
   "cell_type": "markdown",
   "metadata": {},
   "source": [
    "### 6.2.3 期待値とは\n",
    "* 期待値：得られる値の「見込み」\n",
    "* $E = \\Sigma_{k=1}^{n}P_k x_k$\n",
    "  * $x_k:k回目の試行の結果、P_k:x_kの出現確率$\n",
    "* 値とその確率の総和が期待値になる。"
   ]
  },
  {
   "cell_type": "markdown",
   "metadata": {},
   "source": [
    "### 6.2.4 期待値の実装"
   ]
  },
  {
   "cell_type": "code",
   "execution_count": 4,
   "metadata": {},
   "outputs": [
    {
     "name": "stdout",
     "output_type": "stream",
     "text": [
      "47.5\n"
     ]
    }
   ],
   "source": [
    "p = np.array([0.8, 0.15, 0.05])\n",
    "x = np.array([50, 40, 30])\n",
    "\n",
    "E = np.sum(p * x)\n",
    "print(E)"
   ]
  },
  {
   "cell_type": "markdown",
   "metadata": {},
   "source": [
    "### 6.2.5 平均と期待値の関係\n",
    "* 導出はP.196\n",
    "* 式変形により平均値と期待値は同じ意味を示す。"
   ]
  },
  {
   "cell_type": "markdown",
   "metadata": {},
   "source": [
    "### 6.2.6 演習"
   ]
  },
  {
   "cell_type": "code",
   "execution_count": 7,
   "metadata": {},
   "outputs": [
    {
     "name": "stdout",
     "output_type": "stream",
     "text": [
      "210.0\n"
     ]
    }
   ],
   "source": [
    "p: ndarray = np.array([0.75, 0.23, 0.02]) #事象発生確率\n",
    "x: ndarray = np.array([100, 500, 1000]) #確率pで得られる値\n",
    "\n",
    "E:float = np.sum(p * x) \n",
    "print(E)"
   ]
  },
  {
   "cell_type": "markdown",
   "metadata": {},
   "source": [
    "## 6.3 分散と標準偏差\n",
    "* 偏差：実測値と平均値（期待値）の差(データの個数：$n$, 平均値：$\\mu$, 添え字：$k$)\n",
    "  * $x_k - \\mu$\n",
    "* 分散：$偏差^2の平均値$"
   ]
  }
 ],
 "metadata": {
  "interpreter": {
   "hash": "14c6c5ca0f9b539dd92773545166bfb871df97be8ac33429b76df736f0481242"
  },
  "kernelspec": {
   "display_name": "Python 3.9.6 ('.venv': venv)",
   "language": "python",
   "name": "python3"
  },
  "language_info": {
   "codemirror_mode": {
    "name": "ipython",
    "version": 3
   },
   "file_extension": ".py",
   "mimetype": "text/x-python",
   "name": "python",
   "nbconvert_exporter": "python",
   "pygments_lexer": "ipython3",
   "version": "3.9.6"
  },
  "orig_nbformat": 4
 },
 "nbformat": 4,
 "nbformat_minor": 2
}
