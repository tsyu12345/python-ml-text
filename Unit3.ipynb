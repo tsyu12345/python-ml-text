{
 "cells": [
  {
   "cell_type": "code",
   "execution_count": 1,
   "metadata": {},
   "outputs": [],
   "source": [
    "import numpy as np\n",
    "from matplotlib import pyplot as plt"
   ]
  },
  {
   "cell_type": "code",
   "execution_count": 2,
   "metadata": {},
   "outputs": [
    {
     "name": "stdout",
     "output_type": "stream",
     "text": [
      "15\n"
     ]
    }
   ],
   "source": [
    "#3.6.2\n",
    "array = np.array([1,3,2,5,4])\n",
    "\n",
    "y = np.sum(array)\n",
    "\n",
    "print(y)\n"
   ]
  },
  {
   "cell_type": "code",
   "execution_count": 3,
   "metadata": {},
   "outputs": [
    {
     "name": "stdout",
     "output_type": "stream",
     "text": [
      "120\n"
     ]
    }
   ],
   "source": [
    "#List:3.20\n",
    "\n",
    "a = np.array([1,2,3,4,5])\n",
    "y = np.prod(a)\n",
    "\n",
    "print(y)"
   ]
  },
  {
   "cell_type": "code",
   "execution_count": 4,
   "metadata": {},
   "outputs": [
    {
     "name": "stdout",
     "output_type": "stream",
     "text": [
      "SUM: 21\n",
      "SQARE: 720\n"
     ]
    }
   ],
   "source": [
    "#L3.21\n",
    "\n",
    "b = np.array([6,1,5,4,3,2])\n",
    "\n",
    "sum = np.sum(b)\n",
    "total_square = np.prod(b)\n",
    "\n",
    "print(\"SUM: \" + str(sum))\n",
    "print(\"SQARE: \" + str(total_square))"
   ]
  }
 ],
 "metadata": {
  "interpreter": {
   "hash": "b9f01a0d11b8325cca04532b9aefca965f0b122c67bce1def7ad6a2477cbc3ab"
  },
  "kernelspec": {
   "display_name": "Python 3.9.6 ('.venv': venv)",
   "language": "python",
   "name": "python3"
  },
  "language_info": {
   "codemirror_mode": {
    "name": "ipython",
    "version": 3
   },
   "file_extension": ".py",
   "mimetype": "text/x-python",
   "name": "python",
   "nbconvert_exporter": "python",
   "pygments_lexer": "ipython3",
   "version": "3.9.6"
  },
  "orig_nbformat": 4
 },
 "nbformat": 4,
 "nbformat_minor": 2
}
